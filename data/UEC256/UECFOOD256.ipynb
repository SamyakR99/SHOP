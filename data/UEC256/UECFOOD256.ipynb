{
 "cells": [
  {
   "cell_type": "markdown",
   "id": "13fcc3c8",
   "metadata": {},
   "source": [
    "## MAIN ISSUE WITH UECFOOD256:\n",
    "\n",
    "In the 70-10-20 split\n",
    "\n",
    "The train set has 20227 images out of which only 1305 are multilabel images"
   ]
  },
  {
   "cell_type": "code",
   "execution_count": 56,
   "id": "db4d380e",
   "metadata": {},
   "outputs": [],
   "source": [
    "import os\n",
    "import shutil\n",
    "\n",
    "def copy_images(src_dir, dest_dir):\n",
    "    # Create the destination directory if it doesn't exist\n",
    "    if not os.path.exists(dest_dir):\n",
    "        os.makedirs(dest_dir)\n",
    "\n",
    "    # Keep track of copied image file names\n",
    "    copied_images = set()\n",
    "\n",
    "    # Traverse through subfolders from 1 to 256\n",
    "    for folder_name in os.listdir(src_dir):\n",
    "        folder_path = os.path.join(src_dir, folder_name)\n",
    "        if os.path.isdir(folder_path):\n",
    "            # Copy images from each subfolder to the destination directory\n",
    "            for file_name in os.listdir(folder_path):\n",
    "                if file_name not in copied_images:\n",
    "                    src_file_path = os.path.join(folder_path, file_name)\n",
    "                    dest_file_path = os.path.join(dest_dir, file_name)\n",
    "                    shutil.copyfile(src_file_path, dest_file_path)\n",
    "                    copied_images.add(file_name)\n",
    "\n",
    "# Source directory containing subfolders from 1 to 256\n",
    "src_dir = \"/home/samyakr2/food_datasets/uec_256/UECFOOD256\"\n",
    "\n",
    "# Destination directory where all images will be copied\n",
    "dest_dir = \"/home/samyakr2/food_datasets/uec_256/all_images\"\n",
    "\n",
    "copy_images(src_dir, dest_dir)\n"
   ]
  },
  {
   "cell_type": "code",
   "execution_count": 23,
   "id": "2bfbb986",
   "metadata": {},
   "outputs": [],
   "source": [
    "import os\n",
    "import shutil\n",
    "import random\n",
    "\n",
    "def split_data(src_dir, dest_dir, train_ratio=0.7, val_ratio=0.1, test_ratio=0.2):\n",
    "    # Create train, val, test directories in the destination directory\n",
    "    train_dir = os.path.join(dest_dir, \"train\")\n",
    "    val_dir = os.path.join(dest_dir, \"val\")\n",
    "    test_dir = os.path.join(dest_dir, \"test\")\n",
    "    for directory in [train_dir, val_dir, test_dir]:\n",
    "        os.makedirs(directory)\n",
    "\n",
    "    # List all images in the \"all_images\" directory\n",
    "    all_images = os.listdir(src_dir)\n",
    "    num_images = len(all_images)\n",
    "    \n",
    "    # Calculate the number of images for each split\n",
    "    num_train = int(train_ratio * num_images)\n",
    "    num_val = int(val_ratio * num_images)\n",
    "    num_test = num_images - num_train - num_val\n",
    "\n",
    "    # Randomly shuffle the list of images\n",
    "    random.shuffle(all_images)\n",
    "\n",
    "    # Move images to train, val, and test directories based on ratios\n",
    "    for i, image_name in enumerate(all_images):\n",
    "        src_file_path = os.path.join(src_dir, image_name)\n",
    "        if i < num_train:\n",
    "            dest_file_path = os.path.join(train_dir, image_name)\n",
    "        elif i < num_train + num_val:\n",
    "            dest_file_path = os.path.join(val_dir, image_name)\n",
    "        else:\n",
    "            dest_file_path = os.path.join(test_dir, image_name)\n",
    "        shutil.move(src_file_path, dest_file_path)\n",
    "\n",
    "# Source directory containing all images\n",
    "src_dir = \"/home/samyakr2/food_datasets/uec_256/all_images\"\n",
    "\n",
    "# Destination directory where train, val, and test sets will be created\n",
    "dest_dir = \"/home/samyakr2/food_datasets/uec_256/\"\n",
    "\n",
    "split_data(src_dir, dest_dir)\n"
   ]
  },
  {
   "cell_type": "code",
   "execution_count": 39,
   "id": "e2c4d711",
   "metadata": {},
   "outputs": [],
   "source": [
    "\n",
    "import os\n",
    "import numpy as np\n",
    "\n",
    "def create_label_vectors(train_set_path, uecfood256_path):\n",
    "    # Get the list of images in the training set\n",
    "    train_images = os.listdir(train_set_path)\n",
    "\n",
    "    # Initialize a dictionary to store labels for each image\n",
    "    labels = {}\n",
    "\n",
    "    # Loop over images in the training set\n",
    "    for image in train_images:\n",
    "        image_labels = np.zeros(256)  # Initialize a label vector for the current image\n",
    "        \n",
    "        # Find subfolders in UECFOOD256 where the image appears\n",
    "        for root, dirs, files in os.walk(uecfood256_path):\n",
    "            if image in files:\n",
    "                # Get the index of the subfolder and set the corresponding entry in the label vector to 1\n",
    "                index = int(os.path.basename(root)) - 1\n",
    "                image_labels[index] = 1\n",
    "        \n",
    "        # Store the label vector for the current image\n",
    "        labels[image] = image_labels\n",
    "    \n",
    "    return labels\n",
    "\n",
    "# Example usage:\n",
    "train_set_path = \"/home/samyakr2/food_datasets/uec_256/train\"\n",
    "uecfood256_path = \"/home/samyakr2/food_datasets/uec_256/UECFOOD256\"\n",
    "label_dict = create_label_vectors(train_set_path, uecfood256_path)\n",
    "\n",
    "# # Print the label vectors for the first 5 images\n",
    "# for image, label_vector in list(label_dict.items())[:5]:\n",
    "#     print(f\"Image: {image}, Label Vector: {label_vector}\")\n",
    "\n"
   ]
  },
  {
   "cell_type": "code",
   "execution_count": 52,
   "id": "19177521",
   "metadata": {},
   "outputs": [],
   "source": [
    "# label_dict.keys()"
   ]
  },
  {
   "cell_type": "code",
   "execution_count": 51,
   "id": "84b83038",
   "metadata": {},
   "outputs": [
    {
     "name": "stdout",
     "output_type": "stream",
     "text": [
      "1305\n"
     ]
    },
    {
     "data": {
      "text/plain": [
       "20227"
      ]
     },
     "execution_count": 51,
     "metadata": {},
     "output_type": "execute_result"
    }
   ],
   "source": [
    "count = 0\n",
    "tot = 0\n",
    "for image, label_vector in label_dict.items():\n",
    "    tot = tot+1\n",
    "    # Check if the sum of the label vector is greater than 1\n",
    "    if np.sum(label_vector) > 1:\n",
    "        count = count +1\n",
    "print(count)\n",
    "tot"
   ]
  },
  {
   "cell_type": "code",
   "execution_count": null,
   "id": "61386946",
   "metadata": {},
   "outputs": [],
   "source": []
  }
 ],
 "metadata": {
  "kernelspec": {
   "display_name": "Python 3 (ipykernel)",
   "language": "python",
   "name": "python3"
  },
  "language_info": {
   "codemirror_mode": {
    "name": "ipython",
    "version": 3
   },
   "file_extension": ".py",
   "mimetype": "text/x-python",
   "name": "python",
   "nbconvert_exporter": "python",
   "pygments_lexer": "ipython3",
   "version": "3.11.5"
  }
 },
 "nbformat": 4,
 "nbformat_minor": 5
}
